{
 "cells": [
  {
   "cell_type": "markdown",
   "metadata": {},
   "source": [
    "# Worksheet 1\n",
    "\n",
    "### This notebook contains the first set of exercises for the Open Quantum Systems course. By completing these exercises, you will learn methods to predict the dynamics of open quantum systems while also getting experience of programming in Python. Each of the questions below is worth 5 marks. When completing the numerical exercises, please remember the following guidelines:\n",
    "### - *Attempt each question*, even if you don't think you can solve it fully. \n",
    "### - *Comment* your code to explain what each part does. You will gain marks for well-commented code even if it does not exactly solve the problem. You can also lose marks for poorly commented code even if you get everything 100% correct.\n",
    "### - Define variables and functions to make your code more readable and adaptable. This is especially useful when repeating the same calculation with different parameters.\n",
    "### – Always label your plot axes and state the units.\n",
    "### - Don't be afraid to look online for help! The [documentation](https://docs.python.org/3/#) is a good place to start but you can find many other useful sources with your favourite search engine.\n",
    "\n",
    "---"
   ]
  },
  {
   "cell_type": "code",
   "execution_count": 2,
   "metadata": {},
   "outputs": [],
   "source": [
    "import numpy as np"
   ]
  },
  {
   "cell_type": "markdown",
   "metadata": {},
   "source": [
    "## 1\n",
    "\n",
    "In the first lecture we considered the general qubit Hamiltonian\n",
    "$$\\hat{H} = \\frac{\\hbar\\omega}{2} \\mathbf{u} \\cdot \\hat{\\boldsymbol{\\sigma}}$$\n",
    "for some unit vector $\\mathbf{u}= (u_x,u_y,u_z)$. In this exercise we will find a general analytical expression for the time evolution operator $ \\hat{U}(t) = {\\rm e}^{-{\\rm i}\\hat{H}t/\\hbar}$.\n",
    "\n",
    "(a) Let's warm up with the simplest case where $\\mathbf{u} = (0,0,1)$. First show that $\\hat{\\sigma}_z^2 = \\hat{\\mathbb{1}}$ is equal to the identity operator. Now use this fact and the definition of the matrix exponential (i.e. its Taylor expansion) to show that\n",
    "\n",
    "$$ {\\rm e}^{-{\\rm i}\\omega \\hat{\\sigma}_zt/2} = \\cos(\\omega t/2) \\hat{1} - {\\rm i}\\sin(\\omega t/2) \\hat{\\sigma}_z.$$\n",
    "\n",
    "[Hint: recall the Taylor expansions for $\\cos(x) = \\sum_{n=0}^\\infty \\frac{({\\rm i} x)^{2n}}{(2n)!}$ and ${\\rm i}\\sin(x) = \\sum_{n=0}^\\infty \\frac{({\\rm i}x)^{2n+1}}{(2n+1)!}$]"
   ]
  },
  {
   "cell_type": "code",
   "execution_count": 3,
   "metadata": {},
   "outputs": [],
   "source": [
    "# Planck's constant in J⋅Hz⁻¹\n",
    "h = 6.62607015e-34  # J⋅Hz⁻¹\n",
    "# Reduced Planck's constant\n",
    "h_bar = h / (2 * np.pi)  # ℏ = h / (2π)\n",
    "\n",
    "# Define the Pauli matrices as np arrays\n",
    "sigma_x = np.array([[0, 1], [1, 0]])\n",
    "sigma_y = np.array([[0, -1j], [1j, 0]])\n",
    "sigma_z = np.array([[1, 0], [0, -1]])\n",
    "\n",
    "# Define sigma as an array of np arrays\n",
    "sigma = np.array([sigma_x, sigma_y, sigma_z])"
   ]
  },
  {
   "cell_type": "code",
   "execution_count": 4,
   "metadata": {},
   "outputs": [],
   "source": [
    "# Define the Hamiltonian as a function\n",
    "def H(omega: int, unitary_v: np.array):\n",
    "    ''' Returns the Hamiltonian of the system given the omega frequency and the unitary vector v'''\n",
    "    return (h_bar*omega*0.5)*np.tensordot(unitary_v, sigma, axes=(0, 0))"
   ]
  },
  {
   "cell_type": "markdown",
   "metadata": {},
   "source": []
  },
  {
   "cell_type": "markdown",
   "metadata": {},
   "source": [
    "(b) The commutator between two operators $\\hat{A}$ and $\\hat{B}$ is defined by $[\\hat{A},\\hat{B}] = \\hat{A}\\hat{B}-\\hat{B}\\hat{A}$. The anti-commutator is defined by $\\{\\hat{A},\\hat{B}\\} = \\hat{A}\\hat{B}+\\hat{B}\\hat{A}$. The commutator between any pair of Pauli matrices is given in the typed lecture notes ([see Blackboard](https://tcd.blackboard.com)). Convince yourself that the anti-commutation relation\n",
    "\n",
    "$$\\{\\hat{\\sigma}_j,\\hat{\\sigma}_k \\} = 2\\delta_{jk} \\hat{\\mathbb{1}},$$\n",
    "\n",
    "holds for any pair of indices $j,k = x,y,z$. Here, $\\delta_{jk}$ is the Kronecker delta symbol, defined by $\\delta_{jk} = 1$ if $j=k$ and $\\delta_{jk} = 0$ otherwise. Using these \n",
    "commutation and anti-commutation relations (or otherwise), verify the identity:\n",
    "\n",
    "$$ \\hat{\\sigma}_j\\hat{\\sigma}_k = \\delta_{jk}  \\hat{\\mathbb{1}} + \\sum_{l=x,y,z}{\\rm i} \\varepsilon_{jkl} \\hat{\\sigma}_l,$$  \n",
    "\n",
    "where $\\varepsilon_{ijk}$ is the Levi-Civita symbol, which is anti-symmetric under any pairwise permutation of its indices, $\\varepsilon_{jkl}= -\\varepsilon_{kjl} = \\varepsilon_{klj}\\ldots $ etc., and takes the value $\\varepsilon_{jkl} = 1$ for $(j,k,l) = (x,y,z)$. Note that the anti-symmetric property implies that $\\varepsilon_{jkl}=0$ whenever two or more indices are equal."
   ]
  },
  {
   "cell_type": "markdown",
   "metadata": {},
   "source": []
  },
  {
   "cell_type": "markdown",
   "metadata": {},
   "source": [
    "(c) Now consider a general $\\mathbf{u}=(u_x,u_y,u_z)$, where all three components of $\\mathbf{u}$ are non-zero. Using the identity from (b) and the fact that $\\lVert\\mathbf{u}\\rVert = 1$, prove that\n",
    "\n",
    "$$ \\hat{H}^2 = \\left(\\frac{\\hbar\\omega}{2}\\right)^2\\hat{\\mathbb{1}}.$$\n",
    "\n",
    "Use this result to show that, in general,\n",
    "\n",
    "$$ \\hat{U}(t) = \\cos(\\omega t/2) \\hat{\\mathbb{1}} -{\\rm i} \\sin(\\omega t/2) \\mathbf{u} \\cdot \\hat{\\boldsymbol{\\sigma}}.$$"
   ]
  },
  {
   "cell_type": "markdown",
   "metadata": {},
   "source": []
  },
  {
   "cell_type": "markdown",
   "metadata": {},
   "source": [
    "(d) Set $\\mathbf{u} = (1,1,0)/\\sqrt{2}$, and use the result of (c) to calculate the \n",
    "calculate an analytical expression for the operator $\\hat{\\sigma}_z$ in the Heisenberg picture:\n",
    "\n",
    "$$ \\hat{\\sigma}_{z,H}(t) = \\hat{U}^\\dagger(t) \\hat{\\sigma}_z \\hat{U}(t). $$\n",
    "\n",
    "Find the expectation value $\\langle \\downarrow|\\hat{\\sigma}_{z,H}(t)|\\downarrow\\rangle$. "
   ]
  },
  {
   "cell_type": "markdown",
   "metadata": {},
   "source": []
  },
  {
   "cell_type": "markdown",
   "metadata": {},
   "source": [
    "## 2\n",
    "Now we'll do some numerical calculations with the same system. Let's set $\\hbar\\omega=0.2$, and consider the case $\\mathbf{u} = (1,2,0)/\\sqrt{5}$. \n",
    "\n",
    "(a) Write down the Hamiltonian matrix as a NumPy array and verify that $ \\hat{H}^2 = (\\hbar\\omega/2)^2\\hat{\\mathbb{1}}.$"
   ]
  },
  {
   "cell_type": "code",
   "execution_count": 25,
   "metadata": {},
   "outputs": [
    {
     "name": "stdout",
     "output_type": "stream",
     "text": [
      "Hamiltonian square is: \n",
      " [[1.11212172e-70+0.j 0.00000000e+00+0.j]\n",
      " [0.00000000e+00+0.j 1.11212172e-70+0.j]]\n",
      "Which is the same as the identity matrix I times (hw/2)**2 which is:  1.1121217185735185e-70\n"
     ]
    }
   ],
   "source": [
    "# Define the unitary vector\n",
    "u = 1/np.sqrt(5)*np.array([1,2,0])\n",
    "# Compute the hamiltonian using the H function\n",
    "h_1 = H(0.2, u)\n",
    "# Compute the square value of the Hamiltonian\n",
    "h_square = np.dot(h_1, h_1)\n",
    "print('Hamiltonian square is: \\n', h_square)\n",
    "print('Which is the same as the identity matrix I times (hw/2)**2 which is: ', (h_bar*0.2*0.5)**2)"
   ]
  },
  {
   "cell_type": "markdown",
   "metadata": {},
   "source": [
    "(b) Consider an initial state $|\\psi(0)\\rangle = |\\downarrow\\rangle$. Write down the state as a NumPy array and verify numerically that it is **not** an eigenstate of the Hamiltonian matrix. Find the true eigenstates of $\\hat{H}$."
   ]
  },
  {
   "cell_type": "code",
   "execution_count": 30,
   "metadata": {},
   "outputs": [
    {
     "name": "stdout",
     "output_type": "stream",
     "text": [
      "H|ψ(0)⟩: \n",
      " [4.71618854e-36-9.43237709e-36j 0.00000000e+00+0.00000000e+00j]\n",
      "|ψ(0)> is NOT an eigenstate.\n",
      "The correct eigenvalues for H are:  [ 1.05457182e-35+3.34095589e-52j -1.05457182e-35-3.34095589e-52j]\n",
      "The correct eigenvectors for H are:  [[ 0.70710678+0.j         -0.31622777+0.63245553j]\n",
      " [ 0.31622777+0.63245553j  0.70710678+0.j        ]]\n"
     ]
    }
   ],
   "source": [
    "# Initial state |down> (|ψ(0)>)\n",
    "down = np.array([0,1])\n",
    "# Verify that down is not an eigenvector\n",
    "h_psi_0 = np.dot(h_1, down)\n",
    "# Print the result\n",
    "print(\"H|ψ(0)⟩: \\n\", h_psi_0)\n",
    "# Check if h_psi_0 is proportional to psi_0 (it should not be)\n",
    "# If proportional, there would be a constant factor relating them (this won't happen)\n",
    "if np.allclose(h_psi_0, down):\n",
    "    print(\"|ψ(0)> is an eigenstate.\")\n",
    "else:\n",
    "    print(\"|ψ(0)> is NOT an eigenstate.\")\n",
    "# Find the eigenvalues and eigenvectors of the system using eig fuc\n",
    "values, vectors = np.linalg.eig(h_1)\n",
    "print(\"The correct eigenvalues for H are: \", values)\n",
    "print(\"The correct eigenvectors for H are: \", vectors)"
   ]
  },
  {
   "cell_type": "markdown",
   "metadata": {},
   "source": [
    "(c) Find the time evolution operator $\\hat{U}(\\Delta t)$ over a small time step $\\Delta t = 0.05$ (e.g. using the [expm function](https://docs.scipy.org/doc/scipy/reference/generated/scipy.linalg.expm.html) or another method of your choosing).\n",
    "Verify numerically that $\\hat{U}(\\Delta t)$ is unitary."
   ]
  },
  {
   "cell_type": "code",
   "execution_count": null,
   "metadata": {},
   "outputs": [],
   "source": []
  },
  {
   "cell_type": "markdown",
   "metadata": {},
   "source": [
    "(d) Consider the following simple way to simulate time evolution numerically in a given time interval $[0,t]$, which is very effective for relatively simple quantum systems. Discretise the time interval into a grid of $N$ equally spaced times $t_n = n\\Delta t$, where $\\Delta t = t/N$ and $N$ is a large integer. The solutions of the Schrödinger equation evaluated at two different time points $t$ and $t'$ are related by $|\\psi(t')\\rangle = \\hat{U}(t'-t)|\\psi(t)\\rangle$. Therefore, one can find the state at each point on the grid by the iteration\n",
    "\n",
    "$$ |\\psi(t_{n+1})\\rangle = \\hat{U}(\\Delta t) |\\psi(t_n)\\rangle, $$\n",
    "\n",
    "starting from the boundary condition $|\\psi(t_0)\\rangle = |\\psi(0)\\rangle$. Use this method to find the expectation value $\\langle \\psi(t)|\\hat{\\sigma}_z|\\psi(t)\\rangle$ given the initial condition $|\\psi(0)\\rangle = |\\downarrow\\rangle$, and evolve up to time $\\omega t=30$. Plot the result as a function of the dimensionless time variable $\\omega t$."
   ]
  },
  {
   "cell_type": "code",
   "execution_count": null,
   "metadata": {},
   "outputs": [],
   "source": [
    " "
   ]
  },
  {
   "cell_type": "markdown",
   "metadata": {},
   "source": [
    "## 3\n",
    "Let us now perform a similar calculation by a different method. The Bloch vector is defined by $\\mathbf{s} =(s_x,s_y,s_z) = (\\langle\\hat{\\sigma}_x\\rangle,\\langle\\hat{\\sigma}_y\\rangle,\\langle\\hat{\\sigma}_z\\rangle)$, where $\\langle \\bullet\\rangle = \\langle \\psi(t)|\\bullet|\\psi(t)\\rangle$ denotes the expectation value with respect to the time-dependent state of the qubit. \n",
    "\n",
    "(a) By considering the Heisenberg equations of motion for the Pauli matrices, derive the equation\n",
    "\n",
    "$$\\mathbf{\\dot{s}} = \\omega \\,\\mathbf{u}\\times \\mathbf{s},$$\n",
    "\n",
    "where the dot indicates a time derivative. Without any calculation, sketch the solution of this equation on the Bloch sphere for $\\mathbf{u} = (0,1,0)$.\n",
    "\n"
   ]
  },
  {
   "cell_type": "markdown",
   "metadata": {},
   "source": []
  },
  {
   "cell_type": "markdown",
   "metadata": {},
   "source": [
    "(b) Show that the same equation can be expressed in the form\n",
    "\n",
    "$$ \\mathbf{\\dot{s}} = \\mathbf{M}\\cdot \\mathbf{s},$$\n",
    "\n",
    "and find an explicit expression for the matrix $\\mathbf{M}$."
   ]
  },
  {
   "cell_type": "markdown",
   "metadata": {},
   "source": []
  },
  {
   "cell_type": "markdown",
   "metadata": {},
   "source": [
    "(c) Convince yourself that the explicit solution of the above equation is \n",
    "\n",
    "$$ \\mathbf{s}(t) = {\\rm e}^{\\mathbf{M} t} \\cdot \\mathbf{s}(0).$$\n",
    "\n",
    "Solve this equation numerically via a similar iteration  as in question 2, i.e. $\\mathbf{s}(t+\\Delta t) = {\\rm e}^{\\mathbf{M} \\Delta t} \\cdot \\mathbf{s}(t)$. Use the same Hamiltonian, parameters, and initial condition as question 2. Plot the result for all three components of $\\mathbf{s}$."
   ]
  },
  {
   "cell_type": "code",
   "execution_count": null,
   "metadata": {},
   "outputs": [],
   "source": []
  },
  {
   "cell_type": "code",
   "execution_count": null,
   "metadata": {},
   "outputs": [],
   "source": []
  },
  {
   "cell_type": "markdown",
   "metadata": {},
   "source": [
    "## 4\n",
    "A driven two-level system is described in the interaction picture by the Hamiltonian (within the rotating-wave approximation)\n",
    "\n",
    "$$ \\hat{H}_I = \\frac{\\hbar \\Delta}{2}\\hat{\\sigma}_z + \\frac{\\hbar\\Omega}{2} \\left( \\sin\\varphi\\hat{\\sigma}_x - \\cos\\varphi \\hat{\\sigma}_y\\right),$$\n",
    "\n",
    "where $\\Delta$ is the detuning, $\\Omega$ is the Rabi frequency, and $\\varphi$ is the phase of the driving field. \n",
    "\n",
    "(a) Write down this Hamiltonian as a $2\\times 2$ matrix and derive analytical expressions for its eigenvalues. "
   ]
  },
  {
   "cell_type": "markdown",
   "metadata": {},
   "source": []
  },
  {
   "cell_type": "markdown",
   "metadata": {},
   "source": [
    "(b) Show that its two energy eigenvectors $|\\chi_\\pm\\rangle$ can be written in the form \n",
    "$$ |\\chi_+\\rangle = \\cos\\alpha |\\uparrow\\rangle - {\\rm ie}^{{\\rm i}\\varphi}\\sin\\alpha |\\downarrow\\rangle, \\qquad |\\chi_-\\rangle = \\cos\\alpha |\\downarrow\\rangle - {\\rm ie}^{-{\\rm i}\\varphi}\\sin\\alpha |\\uparrow\\rangle,$$\n",
    "where $\\tan 2\\alpha = \\Omega/\\Delta$."
   ]
  },
  {
   "cell_type": "markdown",
   "metadata": {},
   "source": []
  },
  {
   "cell_type": "markdown",
   "metadata": {},
   "source": [
    "(c) Use these results to write down an expression for the state of the system in the interaction picture $|\\psi_I(t)\\rangle$, assuming that the initial state is $|\\psi(0)\\rangle = |\\downarrow\\rangle$. Derive the probability to find the system in the state $|\\uparrow\\rangle$ at time $t$. What is the probability to find the system in the state $|\\downarrow\\rangle$ at time $t$?"
   ]
  },
  {
   "cell_type": "markdown",
   "metadata": {},
   "source": []
  },
  {
   "cell_type": "markdown",
   "metadata": {},
   "source": [
    "## 5 \n",
    "Consider a three-level system with Hamiltonian\n",
    "\n",
    "$$ \\hat{H}_\\Lambda = \\sum_{j=1}^2 \\hbar\\omega_j |j\\rangle\\langle j|,$$\n",
    "\n",
    "where $\\hbar\\omega_j$ is the energy difference between state $|j\\rangle$ and the ground state, $|0\\rangle$. The system is driven by the time-dependent perturbation\n",
    "\n",
    "$$\\hat{H}_{\\rm drive} = \\hbar \\Omega_0 \\cos(\\omega_{\\rm d} t)|0\\rangle \\langle 2| +\\hbar \\Omega_1 \\cos([\\omega_{\\rm d} - \\omega_1]t) |1\\rangle\\langle 2| +{\\rm h.c.},$$\n",
    "   \n",
    "where $\\Omega_{0,1}$ are Rabi frequencies and $\\omega_{\\rm d}$ is the frequency of the driving field, while ${\\rm h.c.}$ stands for the Hermitian conjugate of the preceding terms.\n",
    "    \n",
    "    \n",
    "(a) Move to an interaction picture with respect to the free Hamiltonian $\\hat{H}_0 = \\hbar\\omega_{\\rm d}|2\\rangle \\langle 2| + \\hbar\\omega_1 |1\\rangle \\langle 1|$. Show explicitly that the interaction-picture Hamiltonian, within the rotating-wave approximation (RWA), is \n",
    "    \n",
    "$$ \\hat{H}_I = \\hbar\\begin{pmatrix}\n",
    "\t\t0 & 0 & \\Omega_0/2 \\\\\n",
    "\t\t0 & 0 & \\Omega_1/2\\\\\n",
    "\t\t\\Omega_0/2 & \\Omega_1/2 & \\Delta\n",
    "\t\\end{pmatrix} .$$\n",
    "State the conditions for the RWA to be valid."
   ]
  },
  {
   "cell_type": "markdown",
   "metadata": {},
   "source": []
  },
  {
   "cell_type": "markdown",
   "metadata": {},
   "source": [
    "(b) Find an analytical expression for the eigenvector of $\\hat{H}_I$ that is orthogonal to $|2\\rangle$. Give the corresponding eigenvalue. *Hint: you could make an ansatz (guess) for the eigenvector of the form $|\\psi\\rangle = \\alpha |0\\rangle +\\beta|1\\rangle$, and try solving for the coefficients $\\alpha$ and $\\beta$.*"
   ]
  },
  {
   "cell_type": "markdown",
   "metadata": {},
   "source": []
  },
  {
   "cell_type": "markdown",
   "metadata": {},
   "source": [
    "(c) Calculate the time evolution (in the interaction picture) at time $t$ given an initial condition $|\\psi(0)\\rangle = |0\\rangle$. Feel free to do this numerically or analytically. Set $\\Omega_0 = \\Omega_1 = \\Omega$ and plot the populations of the states $|1\\rangle$ and $|2\\rangle$ as a function of dimensionless time $\\Omega t$ up to $\\Omega t = 200$ for two cases: $\\Delta = 10\\Omega$ and $\\Delta = \\Omega$. Comment briefly on the results."
   ]
  },
  {
   "cell_type": "markdown",
   "metadata": {},
   "source": []
  },
  {
   "cell_type": "markdown",
   "metadata": {},
   "source": [
    "## 6\n",
    "Consider a general driven system with time-dependent Hamiltonian $\\hat{H}(t)$. The evolution operator over the time interval $[t_i,t_f]$ is given by\n",
    "\n",
    "$$ \\hat{U}(t_f,t_i) = \\overleftarrow{\\rm T}\\exp \\left[ \\frac{1}{{\\rm i}\\hbar}\\int_{t_i}^{t_f}{\\rm d}t \\hat{H}(t)\\right].$$\n",
    "\n",
    "For numerical purposes, the Schrödinger-picture time evolution between two neighbouring grid points is\n",
    "\n",
    "$$|\\psi(t_{n+1})\\rangle = \\hat{U}(t_{n+1},t_n)|\\psi(t_n)\\rangle,$$\n",
    "\n",
    "where $t_n = n\\Delta t$. If $\\Delta t$ is small enough that the Hamiltonian can be approximated as constant between $t_n$ and $t_{n+1}$, convince yourself that\n",
    "\n",
    "$$ \\hat{U}(t_{n+1},t_n) \\approx {\\rm e}^{-{\\rm i}\\Delta t\\hat{H}(t_n)/\\hbar}. $$      \n",
    "\n",
    "Now specialise to a driven qubit with Hamiltonian\n",
    "\n",
    "$$\\hat{H}(t) = \\tfrac{1}{2}\\hbar \\omega_0 \\hat{\\sigma}_z  + \\hbar \\Omega \\sin(\\omega_{\\rm d}t)\\hat{\\sigma}_x.$$\n",
    "\n",
    "Compute the time evolution of the state in the Schrödinger picture numerically using the above approximation for $\\hat{U}(t_{n+1},t_n)$. Consider the evolution up to time $t=100\\omega_0^{-1}$, for a near-resonant drive, $\\omega_{\\rm d} = 0.99\\omega_0$, and Rabi frequency $\\Omega = 0.1\\omega_0$. Choose the initial state to be $|\\psi(0)\\rangle = |\\downarrow\\rangle$ and the timestep to be $\\Delta t=0.05\\omega_0^{-1}$. Plot the expectation values of the three Pauli operators as a function of dimensionless time $\\omega_0 t$ and compare your predictions to those of the rotating-wave approximation. Repeat the comparison for $\\Omega = \\omega_0$. Comment briefly on the validity of the rotating-wave approximation in each case. (Hint: you are always free to work in a convenient unit system, e.g. by choosing units of time such that $\\omega_0=1$.)"
   ]
  },
  {
   "cell_type": "code",
   "execution_count": null,
   "metadata": {},
   "outputs": [],
   "source": []
  }
 ],
 "metadata": {
  "kernelspec": {
   "display_name": "Python 3",
   "language": "python",
   "name": "python3"
  },
  "language_info": {
   "codemirror_mode": {
    "name": "ipython",
    "version": 3
   },
   "file_extension": ".py",
   "mimetype": "text/x-python",
   "name": "python",
   "nbconvert_exporter": "python",
   "pygments_lexer": "ipython3",
   "version": "3.11.5"
  }
 },
 "nbformat": 4,
 "nbformat_minor": 4
}
